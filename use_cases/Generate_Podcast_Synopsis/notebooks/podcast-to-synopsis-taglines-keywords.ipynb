{
 "cells": [
  {
   "attachments": {},
   "cell_type": "markdown",
   "metadata": {},
   "source": [
    "# Generate Podcast Synopsis\n",
    "- TO DO: give a few options"
   ]
  },
  {
   "cell_type": "code",
   "execution_count": 1,
   "metadata": {},
   "outputs": [],
   "source": [
    "%load_ext autoreload\n",
    "%autoreload 2\n",
    "\n",
    "from IPython.core.interactiveshell import InteractiveShell\n",
    "InteractiveShell.ast_node_interactivity = \"all\""
   ]
  },
  {
   "attachments": {},
   "cell_type": "markdown",
   "metadata": {},
   "source": [
    "## Load Data"
   ]
  },
  {
   "cell_type": "code",
   "execution_count": 2,
   "metadata": {},
   "outputs": [
    {
     "name": "stdout",
     "output_type": "stream",
     "text": [
      "Title: Why SVB’s collapse is not a 2008 repeat\n",
      " The FT’s US financial commentator Robert Armstrong tells us why he’s not panicking\n",
      " \n",
      " Michela Tindera\n",
      " So, general question here, I mean, seeing bank runs . . . \n",
      " \n",
      " Robert Armstrong\n",
      " Yes.\n",
      " \n",
      " Michela Tindera\n",
      " . . . just that term, I mean, like, yikes. Should we be freaking out?\n",
      " \n",
      " Robert Armstrong\n",
      " Mm-hmm. The problem, you know, you put me in a difficult situation, right? Because there’s a feedback loop here. Right? If everyone else is freaking out, you should freak out. But it would be much better if everyone didn’t freak out.\n",
      " \n",
      " Michela Tindera\n",
      " That’s the FT’s US financial commentator Rob Armstrong. And he’s been thinking about panic a lot recently. That’s because he, like a lot of financial journalists, has been watching a story over the last few days where panic has played a central role. And that story I’m talking about is the collapse of Silicon Valley Bank. And as this news broke last week, the headlines have been dire.\n",
      " \n",
      " News clip 1\n",
      " Tech lender Silicon Valley Bank collapsed on Friday . . . \n",
      " \n",
      " News clip 2\n",
      " The biggest American bank to fail since the 2008 financial crisis . . . \n",
      " \n",
      " News clip 3\n",
      " California regulators shut down Silicon Valley Bank . . . \n",
      " \n",
      " News clip 4\n",
      " US authorities have seized control of Silicon Valley Bank . . . \n",
      " \n",
      " Michela Tindera\n",
      " And it is serious. The federal government had to step in to ensure SVB’s customers, many of them tech start-ups, would still get their money back. Another bank had to be taken over by regulators in the fallout. More bank stocks have tumbled and there’ve been worries that maybe our banking system isn’t as secure as people thought. I mean, we all remember how quickly the 2008 financial crisis unfolded. Right? Rob does.\n",
      " \n",
      " Robert Armstrong\n",
      " The biggest similarity for me is the sudden realisation that you had a problem in the financial system that you just hadn’t bothered thinking about before. And then all of a sudden you’re like, “Whoa! There’s stuff under the covers that I didn’t know was there!” It just catches up with you so quickly. So the suddenness of it is like 2008 where you think, “Where was it? Why didn’t I know about this before?”\n",
      " \n",
      " Michela Tindera\n",
      " But Rob says what’s happening here isn’t the 2008 financial crisis. It’s different. And today, he’ll make the case as to why everything should be fine so long as we don’t panic.\n",
      " \n",
      " [MUSIC PLAYING]\n",
      " \n",
      " I’m Michela Tindera from the Financial Times. Today on Behind the Money, we’re going to be talking to the FT’s US financial commentator Rob Armstrong. He’s going to help us make sense of what’s happened to Silicon Valley Bank and what this means for the rest of the financial system.\n",
      " \n",
      " [MUSIC PLAYING]\n",
      " \n",
      " Hi, Rob. Welcome to the show.\n",
      " \n",
      " Robert Armstrong\n",
      " Nice to be here.\n",
      " \n",
      " Michela Tindera\n",
      " So Rob, last week Silicon Valley Bank collapsed. It was the country’s 16th-biggest bank and this was the biggest bank failure since the 2008 financial crisis. What set this off?\n",
      " \n",
      " Robert Armstrong\n",
      " Two things: bad decisions at the bank and a very rapid increase in interest rates. Those two factors combined in a kind of toxic mix.\n",
      " \n",
      " Michela Tindera\n",
      " OK, got it. So just as a refresher, let’s remind listeners how a bank operates. Banks take money in. Those are the deposits. Then in order for the bank to make money, it then lends out those deposits and earns money on the loan payments for those. Banks are profitable when they take in money at a lower price than they’re lending it out at.\n",
      " \n",
      " Robert Armstrong\n",
      " The interest rate story, we sort of all know. Inflation rises, the Fed responds by increasing rates, the market responds by increasing rates. That happens very, very quickly in historical terms. How did that affect SVB? Well, they were a bit of an outlier among banks in two senses.\n",
      " \n",
      " Michela Tindera\n",
      " How so?\n",
      " \n",
      " Robert Armstrong\n",
      " Two weird features of Silicon Valley Bank’s balance sheet. One: on the get-money side — on the deposit side — they were almost entirely funded by business depositors. And the reason this is very important is that you and I, we don’t care that much about how much our deposit at our local bank or Chase or Bank of America pays us. And if interest rates go up, we don’t stamp our foot and say, “I want more interest on my deposit.” Businesses do. So businesses demand that when interest rates go up, they get more interest on their deposits. And therefore its cost of funding, its cost of getting money was rising fast.\n",
      " \n",
      " Michela Tindera\n",
      " OK, yeah. So that’s one side. What about the lending side of the balance sheet?\n",
      " \n",
      " Robert Armstrong\n",
      " What happened to Silicon Valley Bank that’s so extraordinary is during the kind of post-pandemic tech boom, all of these small companies that are Silicon Valley Bank’s core customers got huge amounts of money in and they deposited it at Silicon Valley Bank. So their deposits, I think, quadrupled in a couple of years, or at least tripled in a couple of years. So they had all this money, so much money, in fact, they couldn’t even loan it out as fast as it was coming in. So what they did was buy Treasury bonds. Treasury bonds are wonderful things. They don’t default, they’re full faith and credit securities of the US government, or they are at least backed by the US government in the case of mortgage bonds. This is great stuff. The problem with them is once you buy them, the interest on those is fixed. So clever listeners will see the problem that’s happening. On the getting-money side of the balance sheet the price of the money is going up. On the giving-money side of the balance sheet, the assets, the price is not going up. So Silicon Valley is basically watching its profits disappear.\n",
      " \n",
      " Michela Tindera\n",
      " Yeah. So last Wednesday, SVB makes this announcement saying that they have to sell some of those bonds that they bought. And since the value of those had fallen so much, they were going to need to raise equity from investors to fill that hole.\n",
      " \n",
      " Robert Armstrong\n",
      " You know, banking is immensely tricky. Having short-term deposits fund long-term loans, or what they call maturity transformation in the jargon, is very powerful magic. And it is incredibly constructive for economies when it’s working well. But it has this dark side to it, and it will always have this dark side to it. And it really is like black magic in a way. You have to treat it very, very delicately and carefully, or it will turn against you in a flash.\n",
      " \n",
      " Michela Tindera\n",
      " And as we saw with SVB, that leads to people freaking out, depositors pulling their funds and yep, a run on the bank. So broadly speaking, what’s happening now?\n",
      " \n",
      " Robert Armstrong\n",
      " This week we got an announcement Sunday night that the FDIC, the Federal Reserve and the Treasury together were resolving the bank in such a way that the uninsured depositors, those business depositors who are worried about their money, would get 100 cents on the dollar. Exactly how that has worked is, at least as we’re talking now, not totally clear. Because, you know, how are they going to sell the assets, to whom, for what, et cetera. But basically the government has said you’re going to get your money back. And the government has also said, crucially, that any other bank that has trouble, it will provide liquidity to them in return for Treasuries, mortgage-backed securities, or definitely Treasuries, maybe more mortgage-backed securities.\n",
      " \n",
      " Michela Tindera\n",
      " Yeah, so that’s what went wrong with SVB, specifically. But is there a larger systemic reason for this?\n",
      " \n",
      " Robert Armstrong\n",
      " Let me make the point very broadly. In American banking, we have a two-tier regulatory system. So the very biggest banks, the so-called systemically important banks — Bank of America, Citibank, JPMorgan, all the household name banks — have to play by a more stringent set of rules in terms of how much capital they have to hold and how much liquidity they have to hold and how often they are examined and stress-tested by regulators than smaller banks, banks the size of Silicon Valley Bank.\n",
      " \n",
      " Michela Tindera\n",
      " So back in 2018, the Dodd-Frank Act was rolled back, which took away some of the regulations on banks that were put in place after the financial crisis. Do you think that had a role in how things have since played out with SVB?\n",
      " \n",
      " Robert Armstrong\n",
      " I’m not sure how big a role that actually had to play in this collapse. I think you have to be very cautious because it’s a political talking point. One of the most important things at a time like this is to have someone to blame and preferably for that person to be in the opposite political party than you. And so even if the tweaking of second-tier bank regulations under Trump was irrelevant, you’re going to be hearing an awful lot about it in the next couple of weeks. And I haven’t done quite enough work to know how relevant that is.\n",
      " \n",
      " Michela Tindera\n",
      " Yeah. And why do we have this two-tiered system?\n",
      " \n",
      " Robert Armstrong\n",
      " The rationale for the two-tier system had two justifications. One, if a very big bank fails, that is a real problem, as we found out in 2008. You know, one of these big boys starts to toddle and anything can happen. Justification number two is the very big banks have a kind of competitive advantage in scale. And for a smaller bank, meeting all those regulatory requirements that the big guys have to meet might be incredibly cumbersome. Right? It’s like you need like a huge staff of people to make sure that you’re playing by all these rules. And for a small bank, that might be prohibitively expensive. This is the argument in any case.\n",
      " \n",
      " Michela Tindera\n",
      " Yeah. So based on what’s happened with SVB, should people be concerned about the solvency of other banks?\n",
      " \n",
      " Robert Armstrong\n",
      " So I think it would be much better if everybody could recognise that the truth that the banking system as a whole is solvent. Government’s taking action to protect depositors. Most individual banks are in good position and we can all take a deep breath. Let me be the 4,000th person to refer to It’s a Wonderful Life and the famous scene of Jimmy Stewart trying to explain when all the people in town try to get their money out of the bank at once, that this is a really bad idea. And if we didn’t do that, we would all be fine. But panic is panic.\n",
      " \n",
      " Michela Tindera\n",
      " Yeah.\n",
      " \n",
      " Robert Armstrong\n",
      " And I should also say, and it’s something I can say categorically and that everybody should keep in mind, if you have less than $250,000 in your bank account, it’s covered by the US government. You have absolutely nothing to worry about.\n",
      " \n",
      " [MUSIC PLAYING]\n",
      " \n",
      " Michela Tindera\n",
      " So how is what’s happening now different from the financial crisis in 2008?\n",
      " \n",
      " Robert Armstrong\n",
      " OK, three points. First point: Silicon Valley Bank, as best as I can figure, was an extreme example of poor balance sheet management. It’s hard to find other banks that had the dangerous characteristics that it had, to the degree it had them. So first read, SVB looks like an outlier. Hopefully the serious problem ends there, or with a small handful of other banks that made similar mistake. That’s point number one. Point number two is 2008, in my assessment, was basically a credit event. Meaning, there was all these terrible loans out there on the back of housing with a tremendous, you know, undercapitalised bad credit. It melted down. There’s not a credit event per se here. The third point: this time around, the big banks are really very safe. And one thing we learned to our horror last time around that even the world’s largest financial institutions were inadequately capitalised. They are much better capitalised this time around. And so it really would boggle my imagination if we saw a major American bank get in deep trouble with this stuff. Again, bad enough panic, the ball goes up, anything can happen.\n",
      " \n",
      " Michela Tindera\n",
      " Mm-hmm.\n",
      " \n",
      " Robert Armstrong\n",
      " But, man, that’s hard for me to think that that’s going to happen.\n",
      " \n",
      " Michela Tindera\n",
      " Yeah. What do you think this moment tells us about the state of US banking regulation? Are things working as they should or not?\n",
      " \n",
      " Robert Armstrong\n",
      " Well, we talked a little bit before about the two-tier system, the heavier regulation for the very largest banks and the slightly less stringent regulation for the smaller banks. Clearly, for both the top-tier and the second-tier banks, they all have more capital than they did before 2008. And that really helps in a situation like this. It could be that regulators didn’t think hard enough about the threat posed by the large amount of securities building up on bank balance sheets. They might have to think harder about whether that’s a risk they need to do something about. They also may have to think about whether having a two-tier regulatory structure is a good idea.\n",
      " \n",
      " Michela Tindera\n",
      " And is that something that’s been in effect since 2008?\n",
      " \n",
      " Robert Armstrong\n",
      " Since the crisis. It came together after the crisis. But what I would say is this: I described this business of taking short-term money in and putting long-term money out as black magic. And it really is. No one should imagine a regulatory system in which bank failures are vanished. It just cannot happen. You want to minimise them, you want to minimise the damage from them. You want to make sure that banks are sensibly capitalised and use sensible balance sheet management. But maturity transformation will always be fundamentally magical and there will always be scary moments. And the goal of regulation is not to bring the risk for everyone down to zero.\n",
      " \n",
      " Michela Tindera\n",
      " Do you think a lot of people would agree with you on that?\n",
      " \n",
      " Robert Armstrong\n",
      " There’s definitely people who disagree with me. But in a system where you have debt, there is risk and there is a whack-a-mole character to risk where if you depress it in one place, it pops up in another. So I think there is a big difference between a well-regulated and a poorly regulated banking system. I think anyone who tells you we can have a world where we have leverage, where we have maturity transformation, where we have entrepreneurial activity, and there’s not going to be, financial institutions are not going to fail ever is probably deluded and maybe a system which was designed to prevent all failures wouldn’t be dynamic enough to serve the economy properly. Now I’m really speculating, but there you have it, those are your speculations from Rob Armstrong.\n",
      " \n",
      " Michela Tindera\n",
      " Yeah, yeah. What should entrepreneurs and other investors be asking of their banks in the future?\n",
      " \n",
      " Robert Armstrong\n",
      " I think that is one of the lessons of this. If I am going to put my company’s operating budget and its investment capital and everything else into a bank, I’d probably want that to be a diversified bank. And I’d want to know a little bit about that bank’s capital structure. And I know that’s a lot to ask of businesspeople. You know, you can’t wave a wand and make businesspeople an expert into bank finances. But does the bank have plenty of capital? Does it have a variety of deposit clients? Does it have a variety of different kinds of loans on the asset side of its balance sheet? These are sensible questions to ask. You know the reason why banks always have such impressive buildings? You know how the classic bank has kind of big stone columns out front is they’re trying to say to potential depositors, we are solid. And, you know, you put money in here, it is like money in the bank. So you have to be a little tiny bit careful as the owner of a business about not being fooled by just the columns and not just depositing money in a bank because your rich friend did the same thing.\n",
      " \n",
      " Michela Tindera\n",
      " Yeah. Broadly speaking, this is a very tough question to ask or answer right now, but where do you see this going? (chuckles)\n",
      " \n",
      " Robert Armstrong\n",
      " I think certain, you know, banking regulation is going to get revisited. You know, last time we had a credit quality crisis. This time we have a rate risk crisis and an asset liability matching crisis. And I’m sure regulation will be revisited there and banks will revisit their policies there. We’ve already spoken about the two-tier regulatory system. It will be interesting to see, this is kind of a perennial question, whether this will inspire the banking system to consolidate a little bit. We have a lot of banks in America, a lot of small to midsize banks. And you know, this showed some vulnerability of some of them. And maybe they will get together and try to get bigger. And that is always a vexed issue in many ways. Who’s going to buy who? Will regulators let it happen? So there’s a whole interesting question about how the structure of the industry changes in the months to come.\n",
      " \n",
      " Michela Tindera\n",
      " Yeah.\n",
      " \n",
      " Robert Armstrong\n",
      " I should say years to come, really.\n",
      " \n",
      " Michela Tindera\n",
      " Mm-hmm.\n",
      " \n",
      " Robert Armstrong\n",
      " I think two, you crank up rates a lot. Somebody’s going to have been swimming naked and they’re going to find out and bad things happen to them and freaks everybody out. So there will be a slowing effect on the economy because this unsettles people. And I think it’s going to be hard for banks, you know, following the troubles of 15 years ago. This is another shot where investors are going to think twice before putting equity capital into banks again. So bank equity capital is going to be more expensive. The valuation multiples of stocks are going to be lower. I think that probably has a bad effect upon or a slowing effect on the economy, too.\n",
      " \n",
      " Michela Tindera\n",
      " Yeah. Do you think what we’re seeing, how this is being handled by the government so far, do you feel like it shows that we learned some important lessons during the 2008 financial crisis?\n",
      " \n",
      " Robert Armstrong\n",
      " Yes. I mean, the fact is the banks are better capitalised now. Some of them, SVB being the extreme case, made mistakes about buying bonds at a market high. And now they have bonds on their balance sheet that are, don’t yield very much. And if mark to market, they create a loss. That’s a mistake. But because banks have more capital now, because of the regulations that were put in place after 2008, that is a much less scary event. Right? What it means for a bank to have more capital is that it can do more stupid things without blowing up. And some banks have done some stupid things and hopefully not very many of them will blow up because they would have been forced to hold more capital.\n",
      " \n",
      " Michela Tindera\n",
      " Yeah.\n",
      " \n",
      " Robert Armstrong\n",
      " So that’s better. (laughter)\n",
      " \n",
      " Michela Tindera\n",
      " Yeah, yeah. (laughter) No, it is. That sounds reassuring. I’m feeling reassured.\n",
      " \n",
      " Robert Armstrong\n",
      " I’m trying to be reassuring. I mean, you know, I can’t . . . you can’t at the beginning of a moment like this, in the first days of a moment like this, you can’t be sure how bad things are going to get. But I think there are reasons to think right now that it won’t be that bad.\n",
      " \n",
      " Michela Tindera\n",
      " Well on that . . ., thanks for being here.\n",
      " \n",
      " Robert Armstrong\n",
      " Don’t panic, everyone. That’s the message. Thank you for having me, Michela.\n",
      " \n",
      " Michela Tindera\n",
      " If you want to hear more from Rob on this topic, the FT is hosting a webinar this Thursday, March 16th, all about the collapse of SVB. Look for more details on this in the show notes.\n",
      " \n",
      " [MUSIC PLAYING]\n",
      " \n",
      " Behind the Money is hosted by me, Michela Tindera. Saffeya Ahmed is our producer. Topher Forhecz is our executive producer. Sound design and mixing by Sam Giovinco. Cheryl Brumley is the global head of audio. Thanks for listening. See you next week.\n",
      "\n"
     ]
    }
   ],
   "source": [
    "fname = \"../data/transcription.txt\"\n",
    "\n",
    "with open(fname, 'r') as f:\n",
    "    content = f.readlines()\n",
    "\n",
    "# convert list to str\n",
    "content = ' '.join(content) \n",
    "print(content)"
   ]
  },
  {
   "attachments": {},
   "cell_type": "markdown",
   "metadata": {},
   "source": [
    "## Set Up Azure OpenAI"
   ]
  },
  {
   "cell_type": "code",
   "execution_count": 3,
   "metadata": {},
   "outputs": [
    {
     "data": {
      "text/plain": [
       "True"
      ]
     },
     "execution_count": 3,
     "metadata": {},
     "output_type": "execute_result"
    }
   ],
   "source": [
    "import os\n",
    "import openai\n",
    "from dotenv import load_dotenv\n",
    "\n",
    "# Set up Azure OpenAI\n",
    "load_dotenv()\n",
    "openai.api_type = \"azure\"\n",
    "openai.api_base = os.getenv(\"OPENAI_API_BASE\")\n",
    "openai.api_version = \"2022-12-01\"\n",
    "openai.api_key = os.getenv(\"OPENAI_API_KEY\")"
   ]
  },
  {
   "attachments": {},
   "cell_type": "markdown",
   "metadata": {},
   "source": [
    "## Deploy a Model"
   ]
  },
  {
   "cell_type": "code",
   "execution_count": 4,
   "metadata": {},
   "outputs": [
    {
     "name": "stdout",
     "output_type": "stream",
     "text": [
      "Found a succeeded deployment of \"text-davinci-003\" that supports text completion with id: text-davinci-003.\n"
     ]
    }
   ],
   "source": [
    "# id of desired_model\n",
    "desired_model = 'text-davinci-003' # suitable for text generation\n",
    "desired_capability = 'completion'\n",
    "\n",
    "# list models deployed with\n",
    "deployment_id = None\n",
    "result = openai.Deployment.list()\n",
    "\n",
    "for deployment in result.data:\n",
    "    if deployment[\"status\"] != \"succeeded\":\n",
    "        continue\n",
    "    \n",
    "    model = openai.Model.retrieve(deployment[\"model\"])\n",
    "\n",
    "    # check if desired_model is deployed, and if it has 'completion' capability\n",
    "    if model[\"id\"] == desired_model and model['capabilities'][desired_capability]:\n",
    "        deployment_id = deployment[\"id\"]\n",
    "        \n",
    "# if no model deployed, deploy one\n",
    "if not deployment_id:\n",
    "    print('No deployment with status: succeeded found.')\n",
    "\n",
    "    # Deploy the model\n",
    "    print(f'Creating a new deployment with model: {desired_model}')\n",
    "    result = openai.Deployment.create(model=desired_model, scale_settings={\"scale_type\":\"standard\"})\n",
    "    deployment_id = result[\"id\"]\n",
    "    print(f'Successfully created {desired_model} that supports text {desired_capability} with id: {deployment_id}.')\n",
    "else:\n",
    "    print(f'Found a succeeded deployment of \"{desired_model}\" that supports text {desired_capability} with id: {deployment_id}.')"
   ]
  },
  {
   "attachments": {},
   "cell_type": "markdown",
   "metadata": {},
   "source": [
    "## Text chunks generator"
   ]
  },
  {
   "cell_type": "code",
   "execution_count": 5,
   "metadata": {},
   "outputs": [],
   "source": [
    "# A generator that split a text into smaller chunks of size n, preferably ending at the end of a sentence\n",
    "def chunk_generator(text, n, tokenizer):\n",
    "    tokens = tokenizer.encode(text)\n",
    "    i = 0\n",
    "    while i < len(tokens):\n",
    "        # Find the nearest end of sentence within a range of 0.5 * n and 1.5 * n tokens\n",
    "        j = min(i + int(1.5 * n), len(tokens))\n",
    "        while j > i + int(0.5 * n):\n",
    "            # Decode the tokens and check for full stop or newline\n",
    "            chunk = tokenizer.decode(tokens[i:j])\n",
    "            if chunk.endswith(\".\") or chunk.endswith(\"\\n\"):\n",
    "                break\n",
    "            j -= 1\n",
    "        # If no end of sentence found, use n tokens as the chunk size\n",
    "        if j == i + int(0.5 * n):\n",
    "            j = min(i + n, len(tokens))\n",
    "        yield tokens[i:j]\n",
    "        i = j\n"
   ]
  },
  {
   "attachments": {},
   "cell_type": "markdown",
   "metadata": {},
   "source": [
    "## Request API"
   ]
  },
  {
   "cell_type": "code",
   "execution_count": 24,
   "metadata": {},
   "outputs": [],
   "source": [
    "def request_api(document, prompt_postfix, max_tokens):\n",
    "    prompt = prompt_postfix.replace('<document>',document)\n",
    "    #print(f'>>> prompt : {prompt}')\n",
    "\n",
    "    response = openai.Completion.create(  \n",
    "    deployment_id=deployment_id, \n",
    "    prompt=prompt,\n",
    "    temperature=0,\n",
    "    max_tokens=max_tokens,\n",
    "    top_p=1,\n",
    "    frequency_penalty=1,\n",
    "    presence_penalty=1,\n",
    "    stop='###')\n",
    "\n",
    "    return response['choices'][0]['text']"
   ]
  },
  {
   "attachments": {},
   "cell_type": "markdown",
   "metadata": {},
   "source": [
    "## Generate Synopsis"
   ]
  },
  {
   "cell_type": "code",
   "execution_count": 7,
   "metadata": {},
   "outputs": [
    {
     "name": "stdout",
     "output_type": "stream",
     "text": [
      " <document>\n",
      "  \n",
      "###\n",
      "  \n",
      "Summarise the transcript of a podcast above into a synopsis. \n",
      "  \n",
      "Synopsis : \n",
      "\n"
     ]
    }
   ],
   "source": [
    "# Prompt postfix\n",
    "prompt_postfix = \"\"\" <document>\n",
    "  \\n###\n",
    "  \\nSummarise the transcript of a podcast above into a synopsis. \n",
    "  \\nSynopsis : \n",
    "\"\"\"\n",
    "print(prompt_postfix)"
   ]
  },
  {
   "cell_type": "code",
   "execution_count": 8,
   "metadata": {},
   "outputs": [
    {
     "name": "stdout",
     "output_type": "stream",
     "text": [
      "The Financial Times' US financial commentator Robert Armstrong discusses the collapse of Silicon Valley Bank and why it is not a repeat of the 2008 financial crisis. He explains that two factors led to SVB's collapse: bad decisions at the bank and a rapid increase in interest rates. Rob also outlines how banks operate, what went wrong with SVB specifically, and whether there are larger systemic reasons for this. He further explains why we have a two-tiered system when it comes to banking regulations, as well as how Dodd-Frank Act rollback may or may not have played a role in this situation. Finally, he reassures listeners that so long as people don't panic, everything should be fine and that deposits under $250k are covered by the US government. Robert Armstrong, a financial expert, discusses the recent collapse of SVB and its implications for banking regulation. He explains that banks are now better capitalised than before 2008 due to regulations put in place after the crisis. He also suggests that investors should be careful when depositing money into banks and look at their capital structure. Finally, he predicts that bank equity capital will become more expensive and have a slowing effect on the economy as investors become wary of putting money into banks following this incident.\n"
     ]
    }
   ],
   "source": [
    "import tiktoken\n",
    "\n",
    "synopsis_chunck = []\n",
    "n = 2000 # max tokens for chuncking\n",
    "max_tokens = 1000 # max tokens for response\n",
    "\n",
    "tokenizer = tiktoken.get_encoding('p50k_base')\n",
    "\n",
    "# Generate chunkcs    \n",
    "chunks = chunk_generator(content, n, tokenizer)\n",
    "\n",
    "# Decode chunk of text\n",
    "text_chunks = [tokenizer.decode(chunk) for chunk in chunks]\n",
    "\n",
    "# Request api\n",
    "for chunk in text_chunks:\n",
    "    synopsis_chunck.append(request_api(chunk, prompt_postfix, max_tokens))\n",
    "    #print(chunk)\n",
    "    #print('>>> synopsis: \\n' + synopsis_chunck[-1])\n",
    "\n",
    "# Synopsis\n",
    "synopsis = ' '.join(synopsis_chunck)\n",
    "print(synopsis)"
   ]
  },
  {
   "attachments": {},
   "cell_type": "markdown",
   "metadata": {},
   "source": [
    "## Translate Synopsis"
   ]
  },
  {
   "cell_type": "code",
   "execution_count": 9,
   "metadata": {},
   "outputs": [
    {
     "name": "stdout",
     "output_type": "stream",
     "text": [
      " <document>\n",
      "  \n",
      "###\n",
      "  \n",
      "Translate synopsis into Mandarin.  \n",
      "  \n",
      "Translation : \n",
      "\n"
     ]
    }
   ],
   "source": [
    "# Prompt postfix\n",
    "prompt_postfix = \"\"\" <document>\n",
    "  \\n###\n",
    "  \\nTranslate synopsis into Mandarin.  \n",
    "  \\nTranslation : \n",
    "\"\"\"\n",
    "print(prompt_postfix)"
   ]
  },
  {
   "cell_type": "code",
   "execution_count": 10,
   "metadata": {},
   "outputs": [
    {
     "name": "stdout",
     "output_type": "stream",
     "text": [
      "美国金融评论家罗伯特·阿姆斯特朗（Robert Armstrong）在《金融时报》上就硅谷银行的崩溃进行了讨论，并且说明这不是2008年金融危机的复制。他解释说，导致SVB倒闭的原因有两方面：一是银行内部出现了不当决定; 二是利率急剧上升。此外，Rob 还概述了银行如何运作、SVB具体出现什么问题以及是否存在更大的体系性原因。此外，他还详细说明了为什么我们在监管方面存在双标准制度, 以及道德弗兰克法案(Dodd-Frank Act) 的退减对此情况会不会造成影响。最后,  Robert Armstrong 向听众保证, 只要人民不惊慌失措, 情况应当一切安好, 250k 美元之下的储户由美国政府承保.\n"
     ]
    }
   ],
   "source": [
    "max_tokens = 1000\n",
    "translation = request_api(synopsis, prompt_postfix, max_tokens)\n",
    "print(translation)"
   ]
  },
  {
   "attachments": {},
   "cell_type": "markdown",
   "metadata": {},
   "source": [
    "美国金融评论家罗伯特·阿姆斯特朗（Robert Armstrong）在《金融时报》上就硅谷银行的崩溃进行了讨论，并且说明这不是2008年金融危机的复制。他解释说，导致SVB倒闭的原因有两方面：一是银行内部出现了不当决定; 二是利率急剧上升。此外，Rob 还概述了银行如何运作、SVB具体出现什么问题以及是否存在更大的体系性原因。此外，他还详细说明了为什么我们在监管方面存在双标准制度, 以及道德弗兰克法案(Dodd-Frank Act) 的退减对此情况会不会造成影响。最后,  Robert Armstrong 向听众保证, 只要人民不惊慌失措, 情况应当一切安好, 250k 美元之下的储户由美国政府承保.\n",
    "Robert Armstrong 金融专家提出了 SVB 最新崩盘及其对相关监管带来的影响。 他表明由于 2008 年危机之后所施加的法律法规使得如今的银行已然比 2008 年时更加强壮。 此外， 也告诫投者将存款存入需要留意看看能耐性情况。 最后 ， Robert Armstrong 预测随之考勒将使得 bank equity capital 更加昂���耗时曲緩效应将随之考勒使效能受到影响."
   ]
  },
  {
   "attachments": {},
   "cell_type": "markdown",
   "metadata": {},
   "source": [
    "## Generate Tag Lines"
   ]
  },
  {
   "cell_type": "code",
   "execution_count": 11,
   "metadata": {},
   "outputs": [
    {
     "name": "stdout",
     "output_type": "stream",
     "text": [
      " <document>\n",
      "  \n",
      "###\n",
      "  \n",
      "Generate 2 to 3 tag lines based on the podcast synopsis above.\n",
      "\n"
     ]
    }
   ],
   "source": [
    "# Prompt postfix\n",
    "prompt_postfix = \"\"\" <document>\n",
    "  \\n###\n",
    "  \\nGenerate 2 to 3 tag lines based on the podcast synopsis above.\n",
    "\"\"\"\n",
    "print(prompt_postfix)"
   ]
  },
  {
   "cell_type": "code",
   "execution_count": 12,
   "metadata": {},
   "outputs": [
    {
     "name": "stdout",
     "output_type": "stream",
     "text": [
      "\n",
      "1. Get the facts on Silicon Valley Bank's collapse and its implications for banking regulation.\n",
      "2. Don't panic: Robert Armstrong explains why deposits under $250k are safe.\n",
      "3. Learn how Dodd-Frank Act rollback may have played a role in SVB's collapse with Robert Armstrong.\n"
     ]
    }
   ],
   "source": [
    "max_tokens = 500\n",
    "tag_lines = request_api(synopsis, prompt_postfix, max_tokens)\n",
    "print(tag_lines)"
   ]
  },
  {
   "attachments": {},
   "cell_type": "markdown",
   "metadata": {},
   "source": [
    "## Generate Search Engine Optimised (SEO) Keywords"
   ]
  },
  {
   "cell_type": "code",
   "execution_count": 22,
   "metadata": {},
   "outputs": [
    {
     "name": "stdout",
     "output_type": "stream",
     "text": [
      " <document>\n",
      "  \n",
      "###\n",
      "  \n",
      "Generate 5 search engine optimised keywords based on text above.  \n",
      "\n"
     ]
    }
   ],
   "source": [
    "# Prompt postfix\n",
    "prompt_postfix = \"\"\" <document>\n",
    "  \\n###\n",
    "  \\nGenerate 5 search engine optimised keywords based on text above.  \n",
    "\"\"\"\n",
    "print(prompt_postfix)"
   ]
  },
  {
   "cell_type": "code",
   "execution_count": 25,
   "metadata": {},
   "outputs": [
    {
     "name": "stdout",
     "output_type": "stream",
     "text": [
      "\n",
      "1. Silicon Valley Bank collapse\n",
      "2. 2008 Financial Crisis\n",
      "3. US Banking Regulation\n",
      "4. FDIC Resolution \n",
      "5. Treasury Liquidity Support \n",
      "1. Banking Regulation\n",
      "2. Financial Crisis 2008\n",
      "3. Bank Equity Capital \n",
      "4. SVB Collapse \n",
      "5. Maturity Transformation\n"
     ]
    }
   ],
   "source": [
    "keywords_chunck = []\n",
    "n = 2000 # max tokens for chuncking\n",
    "max_tokens = 100\n",
    "\n",
    "tokenizer = tiktoken.get_encoding('p50k_base')\n",
    "\n",
    "# Generate chunkcs    \n",
    "chunks = chunk_generator(content, n, tokenizer)\n",
    "\n",
    "# Decode chunk of text\n",
    "text_chunks = [tokenizer.decode(chunk) for chunk in chunks]\n",
    "\n",
    "# Request api\n",
    "for chunk in text_chunks:\n",
    "    keywords_chunck.append(request_api(chunk, prompt_postfix, max_tokens))\n",
    "\n",
    "# Keywords\n",
    "keywords = ' '.join(keywords_chunck)\n",
    "print(keywords)"
   ]
  },
  {
   "cell_type": "code",
   "execution_count": 28,
   "metadata": {},
   "outputs": [
    {
     "name": "stdout",
     "output_type": "stream",
     "text": [
      " <document>\n",
      "  \n",
      "###\n",
      "  \n",
      "Reduce keywords above to 5 search engine optimised keywords. \n",
      "\n"
     ]
    }
   ],
   "source": [
    "# Prompt postfix\n",
    "prompt_postfix = \"\"\" <document>\n",
    "  \\n###\n",
    "  \\nReduce keywords above to 5 search engine optimised keywords. \n",
    "\"\"\"\n",
    "print(prompt_postfix)"
   ]
  },
  {
   "cell_type": "code",
   "execution_count": 30,
   "metadata": {},
   "outputs": [
    {
     "name": "stdout",
     "output_type": "stream",
     "text": [
      "\n",
      "1. Banking Regulation\n",
      "2. Financial Crisis 2008\n",
      "3. Bank Equity Capital \n",
      "4. SVB Collapse \n",
      "5. Treasury Liquidity Support\n"
     ]
    }
   ],
   "source": [
    "max_tokens = 50\n",
    "seo_keywords = request_api(keywords, prompt_postfix, max_tokens)\n",
    "print(seo_keywords)"
   ]
  }
 ],
 "metadata": {
  "kernelspec": {
   "display_name": "azureml_py38",
   "language": "python",
   "name": "python3"
  },
  "language_info": {
   "codemirror_mode": {
    "name": "ipython",
    "version": 3
   },
   "file_extension": ".py",
   "mimetype": "text/x-python",
   "name": "python",
   "nbconvert_exporter": "python",
   "pygments_lexer": "ipython3",
   "version": "3.8.5"
  },
  "orig_nbformat": 4,
  "vscode": {
   "interpreter": {
    "hash": "6d65a8c07f5b6469e0fc613f182488c0dccce05038bbda39e5ac9075c0454d11"
   }
  }
 },
 "nbformat": 4,
 "nbformat_minor": 2
}
