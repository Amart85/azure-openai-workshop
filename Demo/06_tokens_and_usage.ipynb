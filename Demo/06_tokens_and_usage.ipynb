{
 "cells": [
  {
   "cell_type": "markdown",
   "metadata": {},
   "source": [
    "# Tokens"
   ]
  },
  {
   "cell_type": "code",
   "execution_count": 1,
   "metadata": {},
   "outputs": [
    {
     "name": "stderr",
     "output_type": "stream",
     "text": [
      "/anaconda/envs/azureml_py310_sdkv2/lib/python3.10/site-packages/tqdm/auto.py:22: TqdmWarning: IProgress not found. Please update jupyter and ipywidgets. See https://ipywidgets.readthedocs.io/en/stable/user_install.html\n",
      "  from .autonotebook import tqdm as notebook_tqdm\n",
      "None of PyTorch, TensorFlow >= 2.0, or Flax have been found. Models won't be available and only tokenizers, configuration and file/data utilities can be used.\n"
     ]
    },
    {
     "name": "stdout",
     "output_type": "stream",
     "text": [
      "Total number of tokens: 10\n",
      "Tokens :  ['Az', 'ure', ' Open', 'AI', ' service', ' is', ' General', ' Available', ' now', '!']\n"
     ]
    }
   ],
   "source": [
    "from transformers import GPT2TokenizerFast\n",
    "import openai\n",
    "openai.api_type = \"azure\"\n",
    "openai.api_base = os.getenv(\"OPENAI_API_ENDPOINT\")\n",
    "openai.api_version = \"2022-12-01\"\n",
    "openai.api_key = os.getenv(\"OPENAI_API_KEY\")\n",
    "\n",
    "tokenizer = GPT2TokenizerFast.from_pretrained(\"gpt2\")\n",
    "prompt = \"Azure OpenAI service is General Available now!\"\n",
    "tokens = tokenizer(prompt)\n",
    "print('Total number of tokens:', len(tokens['input_ids']))\n",
    "print('Tokens : ', [tokenizer.decode(t) for t in tokens['input_ids']])"
   ]
  },
  {
   "cell_type": "code",
   "execution_count": 4,
   "metadata": {},
   "outputs": [],
   "source": [
    "response = openai.Completion.create(\n",
    "    engine=\"text-curie-001\",\n",
    "    prompt=prompt,\n",
    "    max_tokens=60,\n",
    "    n=2,\n",
    "    best_of=2,\n",
    ")"
   ]
  },
  {
   "attachments": {},
   "cell_type": "markdown",
   "metadata": {},
   "source": [
    "# Show 2 returned results"
   ]
  },
  {
   "cell_type": "code",
   "execution_count": 9,
   "metadata": {},
   "outputs": [
    {
     "name": "stdout",
     "output_type": "stream",
     "text": [
      "============================== ANSWER #1 ==============================\n",
      "\n",
      "\n",
      "We are excited to announce the General Availability (GA) of Azure OpenAI service! This provides machine learning developers with an open-source platform that can be used to train, test, and run services on artificial intelligence (AI) models.\n",
      "\n",
      "You can start using Azure OpenAI service\n",
      "============================== ANSWER #2 ==============================\n",
      "\n",
      "\n",
      "The Azure OpenAI service is now General Available. With this release, you can use the Azure OpenAI service to run Production-Ready artificial intelligence applications on Windows, Linux, and Mac.\n",
      "\n",
      "The Azure OpenAI service offers a variety of features to customize and control the behavior of your\n"
     ]
    }
   ],
   "source": [
    "print('='*30, 'ANSWER #1', '='*30)\n",
    "print(response['choices'][0]['text'])\n",
    "print('='*30, 'ANSWER #2', '='*30)\n",
    "print(response['choices'][1]['text'])\n"
   ]
  },
  {
   "cell_type": "markdown",
   "metadata": {},
   "source": [
    "# Usage"
   ]
  },
  {
   "cell_type": "code",
   "execution_count": 12,
   "metadata": {},
   "outputs": [
    {
     "data": {
      "text/plain": [
       "<OpenAIObject at 0x7fb4211ba8e0> JSON: {\n",
       "  \"completion_tokens\": 120,\n",
       "  \"prompt_tokens\": 10,\n",
       "  \"total_tokens\": 130\n",
       "}"
      ]
     },
     "execution_count": 12,
     "metadata": {},
     "output_type": "execute_result"
    }
   ],
   "source": [
    "response['usage']"
   ]
  },
  {
   "cell_type": "code",
   "execution_count": null,
   "metadata": {},
   "outputs": [],
   "source": []
  }
 ],
 "metadata": {
  "kernelspec": {
   "display_name": "azureml_py310_sdkv2",
   "language": "python",
   "name": "python3"
  },
  "language_info": {
   "codemirror_mode": {
    "name": "ipython",
    "version": 3
   },
   "file_extension": ".py",
   "mimetype": "text/x-python",
   "name": "python",
   "nbconvert_exporter": "python",
   "pygments_lexer": "ipython3",
   "version": "3.10.6"
  },
  "orig_nbformat": 4,
  "vscode": {
   "interpreter": {
    "hash": "2139c70ac98f3202d028164a545621647e07f47fd6f5d8ac55cf952bf7c15ed1"
   }
  }
 },
 "nbformat": 4,
 "nbformat_minor": 2
}
