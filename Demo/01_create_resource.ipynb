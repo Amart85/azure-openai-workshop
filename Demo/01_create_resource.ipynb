{
 "cells": [
  {
   "cell_type": "code",
   "execution_count": null,
   "metadata": {},
   "outputs": [],
   "source": [
    "# Login to Azure\n",
    "!az login"
   ]
  },
  {
   "cell_type": "code",
   "execution_count": 3,
   "metadata": {},
   "outputs": [],
   "source": [
    "# Use Non-prod subscription\n",
    "!az account set --subscription  MCAPS-Hybrid-REQ-42154-2022-louisli"
   ]
  },
  {
   "cell_type": "code",
   "execution_count": null,
   "metadata": {},
   "outputs": [],
   "source": [
    "openai_rg_name = 'OAIResourceGroup'\n",
    "openai_svc_name = 'MyOpenAIResource'\n",
    "!az group create --name $openai_rg_name --location southcentralus"
   ]
  },
  {
   "attachments": {},
   "cell_type": "markdown",
   "metadata": {},
   "source": [
    "# Create OpenAI service\n",
    "Update -l parameter value for a new endpoint uri"
   ]
  },
  {
   "cell_type": "code",
   "execution_count": null,
   "metadata": {},
   "outputs": [],
   "source": [
    "# Wait until the resource group is created\n",
    "# Create OpenAI service\n",
    "!az cognitiveservices account create -n $openai_svc_name -g $openai_rg_name -l southcentralus --kind OpenAI --sku s0 --subscription 8480def5-8f7a-4285-99f7-295b61d7b22a"
   ]
  },
  {
   "cell_type": "code",
   "execution_count": null,
   "metadata": {},
   "outputs": [],
   "source": [
    "!az cognitiveservices account show -n $openai_svc_name -g $openai_rg_name "
   ]
  },
  {
   "cell_type": "code",
   "execution_count": 16,
   "metadata": {},
   "outputs": [
    {
     "name": "stdout",
     "output_type": "stream",
     "text": [
      "{\n",
      "  \"key1\": \"6d9b3176b84c48daafbd88783bb4922c\",\n",
      "  \"key2\": \"510c52558d52459ba3b25521db1364fb\"\n",
      "}\n"
     ]
    }
   ],
   "source": [
    "!az cognitiveservices account keys list -n $openai_svc_name -g $openai_rg_name "
   ]
  },
  {
   "cell_type": "code",
   "execution_count": null,
   "metadata": {},
   "outputs": [],
   "source": [
    "# Deploy a model\n",
    "search_doc_deployment_name = 'curie-search-doc'\n",
    "search_doc_model = 'text-search-curie-doc-001'\n",
    "search_query_deployment_name = 'curie-search-query'\n",
    "search_query_model = 'text-search-curie-query-001'\n",
    "text_deployment_name = 'text-davinci-002'\n",
    "text_model = 'text-davinci-002'\n",
    "\n",
    "!az cognitiveservices account deployment create -g $openai_rg_name -n $openai_svc_name --deployment-name $search_doc_deployment_name --model-name $search_doc_model --model-version \"1\"  --model-format OpenAI --scale-settings-scale-type \"Standard\""
   ]
  },
  {
   "cell_type": "code",
   "execution_count": null,
   "metadata": {},
   "outputs": [],
   "source": [
    "!az cognitiveservices account deployment create -g $openai_rg_name -n $openai_svc_name --deployment-name $search_query_deployment_name --model-name $search_query_model --model-version \"1\"  --model-format OpenAI --scale-settings-scale-type \"Standard\"\n",
    "!az cognitiveservices account deployment create -g $openai_rg_name -n $openai_svc_name --deployment-name $text_deployment_name --model-name $text_model --model-version \"1\"  --model-format OpenAI --scale-settings-scale-type \"Standard\""
   ]
  },
  {
   "cell_type": "code",
   "execution_count": null,
   "metadata": {},
   "outputs": [],
   "source": []
  }
 ],
 "metadata": {
  "kernelspec": {
   "display_name": "azureml_py310_sdkv2",
   "language": "python",
   "name": "python3"
  },
  "language_info": {
   "codemirror_mode": {
    "name": "ipython",
    "version": 3
   },
   "file_extension": ".py",
   "mimetype": "text/x-python",
   "name": "python",
   "nbconvert_exporter": "python",
   "pygments_lexer": "ipython3",
   "version": "3.10.6 (main, Oct 24 2022, 16:07:47) [GCC 11.2.0]"
  },
  "orig_nbformat": 4,
  "vscode": {
   "interpreter": {
    "hash": "2139c70ac98f3202d028164a545621647e07f47fd6f5d8ac55cf952bf7c15ed1"
   }
  }
 },
 "nbformat": 4,
 "nbformat_minor": 2
}
