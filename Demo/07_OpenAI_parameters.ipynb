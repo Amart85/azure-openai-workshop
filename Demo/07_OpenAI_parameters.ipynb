{
 "cells": [
  {
   "cell_type": "code",
   "execution_count": 1,
   "metadata": {},
   "outputs": [],
   "source": [
    "import openai\n",
    "openai.api_type = \"azure\"\n",
    "openai.api_base = os.getenv(\"OPENAI_API_ENDPOINT\")\n",
    "openai.api_version = \"2022-12-01\"\n",
    "openai.api_key = os.getenv(\"OPENAI_API_KEY\")"
   ]
  },
  {
   "attachments": {},
   "cell_type": "markdown",
   "metadata": {},
   "source": [
    "# temperature\n",
    "\n",
    "Defaults to 1\n",
    "\n",
    "What sampling temperature to use. Higher values means the model will take more risks. Try 0.9 for more creative applications, and 0 (argmax sampling) for ones with a well-defined answer.\n",
    "\n",
    "We generally recommend altering this or top_p but not both."
   ]
  },
  {
   "cell_type": "code",
   "execution_count": 3,
   "metadata": {},
   "outputs": [],
   "source": [
    "def call_openai(num_times, prompt, temperature):\n",
    "    for i in range(num_times):\n",
    "        \n",
    "        response = openai.Completion.create(\n",
    "            engine=\"text-curie-001\",\n",
    "            prompt=prompt,\n",
    "            max_tokens=60,\n",
    "            temperature = temperature\n",
    "        )\n",
    "        print(response['choices'][0]['text'])"
   ]
  },
  {
   "cell_type": "code",
   "execution_count": 4,
   "metadata": {},
   "outputs": [
    {
     "name": "stdout",
     "output_type": "stream",
     "text": [
      "\n",
      "\n",
      "dog.\n",
      "\n",
      "\n",
      "dog.\n",
      "\n",
      "\n",
      "dog.\n",
      "\n",
      "\n",
      "dog.\n",
      "\n",
      "\n",
      "dog.\n",
      "\n",
      "\n",
      "dog.\n",
      "\n",
      "\n",
      "dog.\n",
      "\n",
      "\n",
      "dog.\n",
      "\n",
      "\n",
      "dog.\n",
      "\n",
      "\n",
      "dog.\n"
     ]
    }
   ],
   "source": [
    "call_openai(10, 'The best pet is a ', temperature = 0)"
   ]
  },
  {
   "cell_type": "code",
   "execution_count": 5,
   "metadata": {},
   "outputs": [
    {
     "name": "stdout",
     "output_type": "stream",
     "text": [
      "\n",
      "\n",
      "dog.\n",
      "\n",
      "\n",
      "dog.\n",
      "\n",
      "\n",
      "dog.\n",
      "\n",
      "\n",
      "dog.\n",
      "\n",
      "\n",
      "dog or cat\n",
      "\n",
      "\n",
      "poodle\n",
      "\n",
      "\n",
      "dog\n",
      "\n",
      "\n",
      "dog.\n",
      "\n",
      "\n",
      "dog.\n",
      "\n",
      "\n",
      "dog.\n"
     ]
    }
   ],
   "source": [
    "call_openai(10, 'The best pet is a ', temperature = 1)"
   ]
  },
  {
   "attachments": {},
   "cell_type": "markdown",
   "metadata": {},
   "source": [
    "# top_p\n",
    "\n",
    "Defaults to 1\n",
    "\n",
    "An alternative to sampling with temperature, called nucleus sampling, where the model considers the results of the tokens with top_p probability mass. So 0.1 means only the tokens comprising the top 10% probability mass are considered.\n",
    "\n",
    "We generally recommend altering this or temperature but not both."
   ]
  },
  {
   "cell_type": "code",
   "execution_count": 6,
   "metadata": {},
   "outputs": [],
   "source": [
    "def call_openai(num_times, prompt, top_p):\n",
    "    for i in range(num_times):\n",
    "        \n",
    "        response = openai.Completion.create(\n",
    "            engine=\"text-curie-001\",\n",
    "            prompt=prompt,\n",
    "            max_tokens=60,\n",
    "            top_p = top_p\n",
    "        )\n",
    "        print(response['choices'][0]['text'])"
   ]
  },
  {
   "cell_type": "code",
   "execution_count": 8,
   "metadata": {},
   "outputs": [
    {
     "name": "stdout",
     "output_type": "stream",
     "text": [
      "\n",
      "\n",
      "snowman\n",
      "\n",
      "\n",
      "dog.\n",
      "\n",
      "\n",
      "dog.\n",
      "\n",
      "\n",
      "passionate dog.\n",
      "\n",
      "\n",
      "dog.\n",
      "\n",
      "\n",
      "dog\n",
      "\n",
      "\n",
      "dog\n",
      "\n",
      "\n",
      "dog or a cat.\n",
      "\n",
      "\n",
      "dog\n",
      "\n",
      "\n",
      "dog.\n"
     ]
    }
   ],
   "source": [
    "call_openai(10, 'The best pet is a ', top_p = 1)"
   ]
  },
  {
   "cell_type": "code",
   "execution_count": 9,
   "metadata": {},
   "outputs": [
    {
     "name": "stdout",
     "output_type": "stream",
     "text": [
      "\n",
      "\n",
      "dog.\n",
      "\n",
      "\n",
      "dog.\n",
      "\n",
      "\n",
      "dog.\n",
      "\n",
      "\n",
      "dog.\n",
      "\n",
      "\n",
      "dog.\n",
      "\n",
      "\n",
      "dog.\n",
      "\n",
      "\n",
      "dog.\n",
      "\n",
      "\n",
      "dog.\n",
      "\n",
      "\n",
      "dog.\n",
      "\n",
      "\n",
      "dog.\n"
     ]
    }
   ],
   "source": [
    "call_openai(10, 'The best pet is a ', top_p = 0.1)"
   ]
  },
  {
   "attachments": {},
   "cell_type": "markdown",
   "metadata": {},
   "source": [
    "# n\n",
    "\n",
    "Defaults to 1\n",
    "\n",
    "How many completions to generate for each prompt.\n",
    "\n",
    "Note: Because this parameter generates many completions, it can quickly consume your token quota. Use carefully and ensure that you have reasonable settings for max_tokens and stop."
   ]
  },
  {
   "cell_type": "code",
   "execution_count": 11,
   "metadata": {},
   "outputs": [
    {
     "name": "stdout",
     "output_type": "stream",
     "text": [
      "\n",
      "\n",
      "pet.\n",
      "\n",
      "\n",
      "dog!\n"
     ]
    }
   ],
   "source": [
    "response = openai.Completion.create(\n",
    "            engine=\"text-curie-001\",\n",
    "            prompt='The best pet is a ',\n",
    "            max_tokens=60,\n",
    "            n=2\n",
    "        )\n",
    "\n",
    "for c in response['choices']:\n",
    "    print(c['text'])"
   ]
  },
  {
   "attachments": {},
   "cell_type": "markdown",
   "metadata": {},
   "source": [
    "# logprobs\n",
    "\n",
    "Defaults to null\n",
    "\n",
    "Include the log probabilities on the logprobs most likely tokens, as well the chosen tokens. For example, if logprobs is 5, the API will return a list of the 5 most likely tokens. The API will always return the logprob of the sampled token, so there may be up to logprobs+1 elements in the response.\n",
    "\n",
    "The maximum value for logprobs is 5. If you need more than this, please contact us through our Help center and describe your use case."
   ]
  },
  {
   "cell_type": "code",
   "execution_count": 18,
   "metadata": {},
   "outputs": [
    {
     "name": "stdout",
     "output_type": "stream",
     "text": [
      "{\n",
      "  \"text_offset\": [\n",
      "    18,\n",
      "    19,\n",
      "    20,\n",
      "    23,\n",
      "    24,\n",
      "    24,\n",
      "    24,\n",
      "    24\n",
      "  ],\n",
      "  \"token_logprobs\": [\n",
      "    -0.009612077,\n",
      "    -0.0022882936,\n",
      "    -0.39378738,\n",
      "    -0.47477698,\n",
      "    -0.055083495,\n",
      "    -9.063317,\n",
      "    -2.3183882,\n",
      "    -8.9960085e-05\n",
      "  ],\n",
      "  \"tokens\": [\n",
      "    \"\\n\",\n",
      "    \"\\n\",\n",
      "    \"dog\",\n",
      "    \".\",\n",
      "    \"<|endoftext|>\",\n",
      "    \"Turkey\",\n",
      "    \"\\n\",\n",
      "    \"\\n\"\n",
      "  ],\n",
      "  \"top_logprobs\": [\n",
      "    {\n",
      "      \"\\n\": -0.009612077,\n",
      "      \"\\n\\n\": -4.770009\n",
      "    },\n",
      "    {\n",
      "      \"\\n\": -0.0022882936,\n",
      "      \"The\": -8.076508\n",
      "    },\n",
      "    {\n",
      "      \"cat\": -3.1093893,\n",
      "      \"dog\": -0.39378738\n",
      "    },\n",
      "    {\n",
      "      \".\": -0.47477698,\n",
      "      \"<|endoftext|>\": -1.752178\n",
      "    },\n",
      "    {\n",
      "      \" A\": -4.090927,\n",
      "      \"<|endoftext|>\": -0.055083495\n",
      "    },\n",
      "    {\n",
      "      \"I\": -3.598546,\n",
      "      \"The\": -2.7328112\n",
      "    },\n",
      "    {\n",
      "      \"\\n\": -2.3183882,\n",
      "      \"'s\": -1.5557071\n",
      "    },\n",
      "    {\n",
      "      \"\\n\": -8.9960085e-05,\n",
      "      \"\\n\\n\": -9.568723\n",
      "    }\n",
      "  ]\n",
      "}\n",
      "\n",
      "\n",
      "dog.\n"
     ]
    }
   ],
   "source": [
    "response = openai.Completion.create(\n",
    "            engine=\"text-curie-001\",\n",
    "            prompt='The best pet is a ',\n",
    "            max_tokens=60,\n",
    "            logprobs = 2,\n",
    "        )\n",
    "\n",
    "print(response['choices'][0]['logprobs'])\n",
    "print(response['choices'][0]['text'])"
   ]
  },
  {
   "attachments": {},
   "cell_type": "markdown",
   "metadata": {},
   "source": [
    "# presence_penalty\n",
    "\n",
    "Defaults to 0\n",
    "\n",
    "Number between -2.0 and 2.0. Positive values penalize new tokens based on whether they appear in the text so far, increasing the model's likelihood to talk about new topics.\n",
    "\n",
    "# frequency_penalty\n",
    "\n",
    "Defaults to 0\n",
    "\n",
    "Number between -2.0 and 2.0. Positive values penalize new tokens based on their existing frequency in the text so far, decreasing the model's likelihood to repeat the same line verbatim.\n",
    "\n",
    "# best_of\n",
    "\n",
    "Defaults to 1\n",
    "\n",
    "Generates best_of completions server-side and returns the \"best\" (the one with the highest log probability per token). Results cannot be streamed.\n",
    "\n",
    "When used with n, best_of controls the number of candidate completions and n specifies how many to return – best_of must be greater than n.\n",
    "\n",
    "Note: Because this parameter generates many completions, it can quickly consume your token quota. Use carefully and ensure that you have reasonable settings for max_tokens and stop.\n",
    "\n",
    "# logit_bias\n",
    "\n",
    "Defaults to null\n",
    "\n",
    "Modify the likelihood of specified tokens appearing in the completion.\n",
    "\n",
    "Accepts a json object that maps tokens (specified by their token ID in the GPT tokenizer) to an associated bias value from -100 to 100. You can use this tokenizer tool (which works for both GPT-2 and GPT-3) to convert text to token IDs. Mathematically, the bias is added to the logits generated by the model prior to sampling. The exact effect will vary per model, but values between -1 and 1 should decrease or increase likelihood of selection; values like -100 or 100 should result in a ban or exclusive selection of the relevant token.\n",
    "\n",
    "As an example, you can pass {\"50256\": -100} to prevent the <|endoftext|> token from being generated.\n",
    "\n",
    "Reference: OpenAI API Reference [https://platform.openai.com/docs/api-reference/completions]"
   ]
  },
  {
   "cell_type": "code",
   "execution_count": null,
   "metadata": {},
   "outputs": [],
   "source": []
  }
 ],
 "metadata": {
  "kernelspec": {
   "display_name": "azureml_py310_sdkv2",
   "language": "python",
   "name": "python3"
  },
  "language_info": {
   "codemirror_mode": {
    "name": "ipython",
    "version": 3
   },
   "file_extension": ".py",
   "mimetype": "text/x-python",
   "name": "python",
   "nbconvert_exporter": "python",
   "pygments_lexer": "ipython3",
   "version": "3.10.6"
  },
  "orig_nbformat": 4,
  "vscode": {
   "interpreter": {
    "hash": "2139c70ac98f3202d028164a545621647e07f47fd6f5d8ac55cf952bf7c15ed1"
   }
  }
 },
 "nbformat": 4,
 "nbformat_minor": 2
}
